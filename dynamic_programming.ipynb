{
 "cells": [
  {
   "cell_type": "code",
   "execution_count": 33,
   "metadata": {},
   "outputs": [],
   "source": [
    "from time import time"
   ]
  },
  {
   "cell_type": "code",
   "execution_count": 34,
   "metadata": {},
   "outputs": [],
   "source": [
    "# A dynamic programming Python3 implementation\n",
    "# for vertex cover problem for a tree\n",
    "\n",
    "# A utility function to find min of two integers\n",
    "\n",
    "# A binary tree node has data, pointer to\n",
    "# left child and a pointer to right child\n",
    "class Node:\n",
    "    def __init__(self, x):\n",
    "        self.data = x\n",
    "        self.vc = 0\n",
    "        self.left = None\n",
    "        self.right = None"
   ]
  },
  {
   "cell_type": "code",
   "execution_count": 35,
   "metadata": {},
   "outputs": [],
   "source": [
    "# The function returns size of\n",
    "# the minimum vertex cover\n",
    "def vCover(root):\n",
    "\t\n",
    "\t# The size of minimum vertex cover\n",
    "\t# is zero if tree is empty or there\n",
    "\t# is only one node\n",
    "\tif (root == None):\n",
    "\t\treturn 0\n",
    "\t\t\n",
    "\tif (root.left == None and root.right == None):\n",
    "\t\treturn 0\n",
    "\n",
    "\t# If vertex cover for this node is\n",
    "\t# already evaluated, then return it\n",
    "\t# to save recomputation of same subproblem again.\n",
    "\tif (root.vc != 0):\n",
    "\t\treturn root.vc\n",
    "\n",
    "\t# Calculate size of vertex cover when\n",
    "\t# root is part of it\n",
    "\tsize_incl = 1 + vCover(root.left) + vCover(root.right)\n",
    "\n",
    "\t# Calculate size of vertex cover\n",
    "\t# when root is not part of it\n",
    "\tsize_excl = 0\n",
    "\tif (root.left):\n",
    "\t\tsize_excl += 1 + vCover(root.left.left) + vCover(root.left.right)\n",
    "\n",
    "\tif (root.right):\n",
    "\t\tsize_excl += 1 + vCover(root.right.left) + vCover(root.right.right)\n",
    "\n",
    "\t# Minimum of two values is vertex cover,\n",
    "\t# store it before returning\n",
    "\troot.vc = min(size_incl, size_excl)\n",
    "\treturn root.vc"
   ]
  },
  {
   "cell_type": "code",
   "execution_count": 36,
   "metadata": {},
   "outputs": [
    {
     "name": "stdout",
     "output_type": "stream",
     "text": [
      "Size of k is 10\n",
      "Size of the smallest vertex cover is 9\n",
      "9 <= 10 : TRUE\n",
      "Time taken = 0.00099850 s\n"
     ]
    }
   ],
   "source": [
    "# Driver Code\n",
    "if __name__ == '__main__':\n",
    "\tsize = int(input(\"Please enter size k\"))\n",
    "\n",
    "\troot = Node(0);\n",
    "\troot.left = Node(1)\n",
    "\troot.right = Node(2)\n",
    "\troot.left.left = Node(3)\n",
    "\troot.left.right = Node(4)\n",
    "\troot.left.left.left = Node(5)\n",
    "\troot.left.left.right = Node(6)\n",
    "\troot.left.left.right.left = Node(7)\n",
    "\troot.right.left = Node(8)\n",
    "\troot.right.right = Node(9)\n",
    "\troot.right.right.left = Node(10)\n",
    "\troot.right.right.right = Node(11)\n",
    "\troot.right.right.right.left = Node(12)\n",
    "\troot.right.right.right.right = Node(13)\n",
    "\troot.right.right.right.left.left = Node(14)\n",
    "\troot.right.right.right.right.left = Node(15)\n",
    "\troot.right.right.right.right.right = Node(16)\n",
    "\troot.right.right.right.left.left.left = Node(17)\n",
    "\troot.right.right.right.left.left.right = Node(18)\n",
    "\troot.right.right.right.right.right.left = Node(19)\n",
    "\n",
    "\tprint(\"Size of k is\", size)\n",
    "\ttime_now = time()\n",
    "\tvc = vCover(root)\n",
    "\tprint(\"Size of the smallest vertex cover is\", vc)\n",
    "\ttime_end = time()\n",
    "\n",
    "\tprint(f\"{vc} <= {size} : \" + (\"TRUE\" if vc <= size else \"FALSE\"))\n",
    "\n",
    "\tprint(\"Time taken = {:.8f} s\".format(time_end - time_now))"
   ]
  }
 ],
 "metadata": {
  "interpreter": {
   "hash": "fe610729788b7d083e2a91bafdebf5c83070aba17cda01d77f154bfd2ee16d61"
  },
  "kernelspec": {
   "display_name": "Python 3.8.2 32-bit",
   "name": "python3"
  },
  "language_info": {
   "codemirror_mode": {
    "name": "ipython",
    "version": 3
   },
   "file_extension": ".py",
   "mimetype": "text/x-python",
   "name": "python",
   "nbconvert_exporter": "python",
   "pygments_lexer": "ipython3",
   "version": "3.8.2"
  },
  "orig_nbformat": 4
 },
 "nbformat": 4,
 "nbformat_minor": 2
}
